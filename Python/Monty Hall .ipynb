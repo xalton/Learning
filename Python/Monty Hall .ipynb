{
 "cells": [
  {
   "cell_type": "markdown",
   "metadata": {},
   "source": [
    "# Monty Hall\n",
    "--------------------------\n",
    "##  __Règles __ du __ jeu __:\n",
    "\n",
    "\n",
    "Il y a 3 portes l'un d'entre elle cache derrière une voiture et les deux autres une chèvre. On a le choix d'ouvrir une de ces portes. Après avoir effectué notre choix et avant d'ouvrir la porte choisie, le présentateur ouvre une porte avec une chèvre derrière. On demande alors d'effectuer un nouveau choix ou de rester sur le précédent sachant qu'il ne reste que deux portes."
   ]
  },
  {
   "cell_type": "code",
   "execution_count": 52,
   "metadata": {
    "collapsed": true
   },
   "outputs": [],
   "source": [
    "#Modules\n",
    "%matplotlib inline\n",
    "from random import randint\n",
    "from enum import Enum\n",
    "import matplotlib.pyplot as plt\n",
    "import numpy as np"
   ]
  },
  {
   "cell_type": "code",
   "execution_count": 6,
   "metadata": {
    "collapsed": true
   },
   "outputs": [],
   "source": [
    "#Classes\n",
    "class Strategie(Enum):\n",
    "    CHANGER = 1\n",
    "    GARDER = 0"
   ]
  },
  {
   "cell_type": "code",
   "execution_count": 7,
   "metadata": {
    "collapsed": true
   },
   "outputs": [],
   "source": [
    "#Fonctions\n",
    "def play_game(strategie):\n",
    "    portes = [0,1,2]\n",
    "    bonne_porte = randint(0,2)\n",
    "    premier_choix = randint(0,2)\n",
    "    portes.remove(premier_choix)#portes restante\n",
    "    \n",
    "    if premier_choix == bonne_porte:\n",
    "        portes.remove(portes[randint(0,1)]) #présentateur élimine une porte restante\n",
    "    else:\n",
    "        portes = [bonne_porte]\n",
    "    \n",
    "    deuxieme_choix = 0\n",
    "    \n",
    "    if (strategie == Strategie.GARDER):\n",
    "        deuxième_choix = premier_choix  #Garde le choix de départ\n",
    "    else:\n",
    "        deuxieme_choix = portes[0] #Seule porte restante\n",
    "        \n",
    "    return deuxieme_choix == bonne_porte\n",
    "\n",
    "def play(strategie,nb_tours):\n",
    "    return [1 if play_game(strategie) else 0 for i in range(nb_tours)]"
   ]
  },
  {
   "cell_type": "code",
   "execution_count": 8,
   "metadata": {},
   "outputs": [
    {
     "data": {
      "text/plain": [
       "True"
      ]
     },
     "execution_count": 8,
     "metadata": {},
     "output_type": "execute_result"
    }
   ],
   "source": [
    "play_game(Strategie.CHANGER)"
   ]
  },
  {
   "cell_type": "code",
   "execution_count": 9,
   "metadata": {},
   "outputs": [
    {
     "name": "stdout",
     "output_type": "stream",
     "text": [
      "Nombre de fois que le joueur a gagné en gardant son premier choix: 343\n"
     ]
    }
   ],
   "source": [
    "print(\"Nombre de fois que le joueur a gagné en gardant son premier choix:\",sum(play(Strategie.GARDER,1000)))\n"
   ]
  },
  {
   "cell_type": "code",
   "execution_count": 10,
   "metadata": {},
   "outputs": [
    {
     "name": "stdout",
     "output_type": "stream",
     "text": [
      "Nombre de fois que le joueur a gagné en changeant son choix: 674\n"
     ]
    }
   ],
   "source": [
    "print(\"Nombre de fois que le joueur a gagné en changeant son choix:\",sum(play(Strategie.CHANGER,1000)))\n"
   ]
  },
  {
   "cell_type": "code",
   "execution_count": 12,
   "metadata": {},
   "outputs": [
    {
     "data": {
      "text/plain": [
       "[<matplotlib.lines.Line2D at 0x16c511c5128>]"
      ]
     },
     "execution_count": 12,
     "metadata": {},
     "output_type": "execute_result"
    },
    {
     "data": {
      "image/png": "[encoded data removed]",
      "text/plain": [
       "<matplotlib.figure.Figure at 0x16c50eb5898>"
      ]
     },
     "metadata": {},
     "output_type": "display_data"
    }
   ],
   "source": [
    "plt.plot(play(Strategie.CHANGER,20))"
   ]
  },
  {
   "cell_type": "code",
   "execution_count": 13,
   "metadata": {},
   "outputs": [
    {
     "data": {
      "text/plain": [
       "<Container object of 2 artists>"
      ]
     },
     "execution_count": 13,
     "metadata": {},
     "output_type": "execute_result"
    },
    {
     "data": {
      "image/png": "[encoded data removed]",
      "text/plain": [
       "<matplotlib.figure.Figure at 0x16c511df710>"
      ]
     },
     "metadata": {},
     "output_type": "display_data"
    }
   ],
   "source": [
    "plt.bar([1,2],[sum(play(Strategie.CHANGER,1000)),sum(play(Strategie.GARDER,1000))])"
   ]
  },
  {
   "cell_type": "code",
   "execution_count": 14,
   "metadata": {},
   "outputs": [],
   "source": [
    "gains_changer = []\n",
    "gains_garder = []\n",
    "\n",
    "samples = [50,100,500,1000,5000,10000,50000,100000]\n",
    "for tours in samples:\n",
    "    gains_changer.append(play(Strategie.CHANGER,tours))\n",
    "    gains_garder.append(play(Strategie.GARDER,tours))\n",
    "    "
   ]
  },
  {
   "cell_type": "code",
   "execution_count": 15,
   "metadata": {},
   "outputs": [
    {
     "data": {
      "text/plain": [
       "Text(0,0.5,'gains')"
      ]
     },
     "execution_count": 15,
     "metadata": {},
     "output_type": "execute_result"
    },
    {
     "data": {
      "image/png": "[encoded data removed]",
      "text/plain": [
       "<matplotlib.figure.Figure at 0x16c511ea8d0>"
      ]
     },
     "metadata": {},
     "output_type": "display_data"
    }
   ],
   "source": [
    "plt.figure()\n",
    "plt.scatter(samples,[sum(x) for x in gains_changer])\n",
    "plt.scatter(samples,[sum(x) for x in gains_garder])\n",
    "plt.xlabel('tours')\n",
    "plt.ylabel('gains')"
   ]
  },
  {
   "cell_type": "code",
   "execution_count": 57,
   "metadata": {},
   "outputs": [],
   "source": [
    "moyenne_garder = []\n",
    "moyenne_changer = []\n",
    "somme_garder = [sum(x) for x in gains_garder]\n",
    "somme_changer = [sum(x) for x in gains_changer]\n",
    "div = lambda x,y:[x[k]/y[k] for k in range(len(x))]\n",
    "moyenne_garder = div(somme_garder,samples)\n",
    "moyenne_changer = div(somme_changer,samples)"
   ]
  },
  {
   "cell_type": "code",
   "execution_count": 63,
   "metadata": {},
   "outputs": [
    {
     "data": {
      "text/plain": [
       "Text(0,0.5,'Moyenne des gains')"
      ]
     },
     "execution_count": 63,
     "metadata": {},
     "output_type": "execute_result"
    },
    {
     "data": {
      "image/png": "[encoded data removed]",
      "text/plain": [
       "<matplotlib.figure.Figure at 0x16c52721cc0>"
      ]
     },
     "metadata": {},
     "output_type": "display_data"
    }
   ],
   "source": [
    "plt.figure()\n",
    "plt.plot(samples,moyenne_changer,'--o')\n",
    "plt.plot(samples,moyenne_garder,'--o')\n",
    "plt.xlabel('Nombre de parties')\n",
    "plt.ylabel('Moyenne des gains')"
   ]
  },
  {
   "cell_type": "markdown",
   "metadata": {},
   "source": [
    "## __Conclusion__:\n",
    "\n",
    "\n",
    "On gagne deux fois plus en changeant de choix de porte qu'en gardant le premier choix !"
   ]
  },
  {
   "cell_type": "code",
   "execution_count": null,
   "metadata": {
    "collapsed": true
   },
   "outputs": [],
   "source": []
  }
 ],
 "metadata": {
  "kernelspec": {
   "display_name": "Python 3",
   "language": "python",
   "name": "python3"
  },
  "language_info": {
   "codemirror_mode": {
    "name": "ipython",
    "version": 3
   },
   "file_extension": ".py",
   "mimetype": "text/x-python",
   "name": "python",
   "nbconvert_exporter": "python",
   "pygments_lexer": "ipython3",
   "version": "3.6.3"
  }
 },
 "nbformat": 4,
 "nbformat_minor": 2
}
